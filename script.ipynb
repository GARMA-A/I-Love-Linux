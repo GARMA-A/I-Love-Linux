{
 "cells": [
  {
   "cell_type": "code",
   "execution_count": null,
   "metadata": {
    "vscode": {
     "languageId": "shellscript"
    }
   },
   "outputs": [],
   "source": [
    "!sudo -S apt install -y python3-pip < ~/password"
   ]
  },
  {
   "cell_type": "code",
   "execution_count": null,
   "metadata": {
    "vscode": {
     "languageId": "shellscript"
    }
   },
   "outputs": [],
   "source": [
    "!pip install bash_kernel --break-system-packages"
   ]
  },
  {
   "cell_type": "code",
   "execution_count": null,
   "metadata": {
    "vscode": {
     "languageId": "shellscript"
    }
   },
   "outputs": [],
   "source": [
    "!python3 -m bash_kernel.install"
   ]
  },
  {
   "cell_type": "markdown",
   "metadata": {},
   "source": [
    "### now you can change the kernel of the notebook to `Bash`"
   ]
  },
  {
   "cell_type": "code",
   "execution_count": null,
   "metadata": {
    "vscode": {
     "languageId": "shellscript"
    }
   },
   "outputs": [],
   "source": [
    "#!/bin/bash\n",
    "echo $HOSTNAME"
   ]
  },
  {
   "cell_type": "code",
   "execution_count": null,
   "metadata": {
    "vscode": {
     "languageId": "shellscript"
    }
   },
   "outputs": [],
   "source": [
    "#!/usr/bin/env python3\n",
    "print(\"Test Python\")"
   ]
  },
  {
   "cell_type": "code",
   "execution_count": null,
   "metadata": {
    "vscode": {
     "languageId": "bat"
    }
   },
   "outputs": [],
   "source": [
    "#!/bin/bash\n",
    "\n",
    "# VARIABLES\n",
    "\n",
    "# Integer\n",
    "# String\n",
    "# Constant\n",
    "\n",
    "set -e\n",
    "\n",
    "declare -i sum=16 # the -i is for integer data type\n",
    "declare st=\"Some strting\" # declare a string variable\n",
    "declare -r PI=3.14\n",
    "declare -a names=(Ahmed Sami)\n",
    "names[2]=\"Ali\"\n",
    "\n",
    "\n",
    "echo $sum\n",
    "echo $st\n",
    "echo $PI\n",
    "echo $names\n",
    "echo ${names[1]}\n",
    "echo ${names[2]}\n",
    "\n",
    "exit 0"
   ]
  },
  {
   "cell_type": "code",
   "execution_count": null,
   "metadata": {
    "vscode": {
     "languageId": "shellscript"
    }
   },
   "outputs": [],
   "source": [
    "#!/bin/bash\n",
    "\n",
    "# ARITHMETIC OPERATIONS\n",
    "\n",
    "num=4\n",
    "\n",
    "echo $((num*5))     # using echo $(())\n",
    "expr $num + 6       # using expr\n",
    "echo $num ^ 4 | bc  # using bc"
   ]
  },
  {
   "cell_type": "code",
   "execution_count": null,
   "metadata": {
    "vscode": {
     "languageId": "shellscript"
    }
   },
   "outputs": [],
   "source": [
    "#!/bin/bash\n",
    "\n",
    "# LOGICAL OPERATIONS\n",
    "\n",
    "# set -x \n",
    "\n",
    "true ; echo $?\n",
    "false ; echo $?\n",
    "\n",
    "true && echo \"True\"\n",
    "false || echo \"False\"\n",
    "\n",
    "# using [[]] with -le -ge -lt -gt -eq\n",
    "# [[ 1 -le 2 ]] ; echo $?\n",
    "\n",
    "# using [[]] with == >= <= !=\n",
    "# [[ 3 == 3 ]] ; echo $?\n",
    "[[ 3 != 3 ]] ; echo $?\n",
    "[[ 3 > 3 ]] ; echo $?\n",
    "\n",
    "# using test command\n",
    "test 1 -le 5  ; echo $?\n",
    "\n",
    "# logical file operarions\n",
    "test -f /etc/hosts ; echo $?    # -f does file exist?\n",
    "test -r /etc/shadow ; echo $?   # -r does the user have read access? -w -x\n",
    "\n"
   ]
  },
  {
   "cell_type": "code",
   "execution_count": null,
   "metadata": {
    "vscode": {
     "languageId": "shellscript"
    }
   },
   "outputs": [],
   "source": [
    "#!/bin/bash\n",
    "\n",
    "# POSITIONAL PARAMETERS\n",
    "\n",
    "# $0 - Name of the script\n",
    "# $# - Number of the command-line arguments\n",
    "# $* - List of command-line arguments\n",
    "# $@ - same as $* but treats list of args as indexed array\n",
    "# $1 - 1st positional parameter\n",
    "# $2 - 2nd positional paramters \n",
    "\n",
    "echo \"The total number of arguments is: $#\"\n",
    "echo \"The arguments are: $*\"\n",
    "echo \"The first arg is: $1\"\n"
   ]
  },
  {
   "cell_type": "code",
   "execution_count": null,
   "metadata": {
    "vscode": {
     "languageId": "shellscript"
    }
   },
   "outputs": [],
   "source": [
    "#!/bin/bash\n",
    "\n",
    "# FUNCTIONS\n",
    "\n",
    "Hello () {\n",
    "    echo \"Hello Functions!\"\n",
    "}\n",
    "\n",
    "Hello"
   ]
  },
  {
   "cell_type": "code",
   "execution_count": null,
   "metadata": {
    "vscode": {
     "languageId": "shellscript"
    }
   },
   "outputs": [],
   "source": [
    "#!/bin/bash\n",
    "\n",
    "# FUNCTIONS\n",
    "# return\n",
    "\n",
    "function Hello () {\n",
    "    echo \"Hello Functions!\"\n",
    "    # timestmp\n",
    "    return 0\n",
    "}\n",
    "\n",
    "function timestmp (){\n",
    "    echo \"The time now is $(date +%m/%d/%y\" \"%R)\"\n",
    "}\n",
    "\n",
    "Hello\n",
    "\n",
    "echo $? "
   ]
  },
  {
   "cell_type": "code",
   "execution_count": null,
   "metadata": {
    "vscode": {
     "languageId": "shellscript"
    }
   },
   "outputs": [],
   "source": [
    "#!/bin/bash\n",
    "\n",
    "# READ FROM STDIN\n",
    "\n",
    "# read [-option] [variables...]\n",
    "\n",
    "echo \"What is your name?\"\n",
    "read name\n",
    "echo \"Hello, $name!\""
   ]
  },
  {
   "cell_type": "code",
   "execution_count": null,
   "metadata": {
    "vscode": {
     "languageId": "shellscript"
    }
   },
   "outputs": [],
   "source": [
    "#!/bin/bash\n",
    "\n",
    "# READ FROM STDIN\n",
    "\n",
    "# read with prompt\n",
    "\n",
    "echo \"What is your name?\"\n",
    "read -p \"name: \" name\n",
    "echo \"Hello, $name!\""
   ]
  },
  {
   "cell_type": "code",
   "execution_count": null,
   "metadata": {
    "vscode": {
     "languageId": "shellscript"
    }
   },
   "outputs": [],
   "source": [
    "#!/bin/bash\n",
    "\n",
    "# READ FROM STDIN\n",
    "\n",
    "# read securely\n",
    "\n",
    "echo \"What is your password?\"\n",
    "read -sp \"password: \" password\n",
    "echo \"Hello, $password!\""
   ]
  }
 ],
 "metadata": {
  "kernelspec": {
   "display_name": "Bash",
   "language": "bash",
   "name": "bash"
  },
  "language_info": {
   "codemirror_mode": "shell",
   "file_extension": ".sh",
   "mimetype": "text/x-sh",
   "name": "bash"
  }
 },
 "nbformat": 4,
 "nbformat_minor": 2
}
