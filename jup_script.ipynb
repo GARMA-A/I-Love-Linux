{
 "cells": [
  {
   "cell_type": "code",
   "execution_count": null,
   "metadata": {
    "vscode": {
     "languageId": "shellscript"
    }
   },
   "outputs": [],
   "source": [
    "#!/bin/bash\n",
    "\n",
    "# Arithmetic Operations\n",
    "\n",
    "sum=3\n",
    "\n",
    "echo $((sum**10))   # using (())\n",
    "expr $sum \\* 9      # using expr  \n",
    "echo $sum ^ 19 | bc # using bc\n"
   ]
  },
  {
   "cell_type": "code",
   "execution_count": null,
   "metadata": {
    "vscode": {
     "languageId": "shellscript"
    }
   },
   "outputs": [],
   "source": [
    "#!/bin/bash\n",
    "\n",
    "# Boolean Operations\n",
    "\n",
    "true ; echo $?\n",
    "false ; echo $?\n",
    "\n",
    "[[ 1 -eq 2 ]] ; echo $?\n",
    "[[ 1 -le 2 ]] ; echo $? # -le -gt -ge -"
   ]
  },
  {
   "cell_type": "code",
   "execution_count": null,
   "metadata": {
    "vscode": {
     "languageId": "shellscript"
    }
   },
   "outputs": [],
   "source": [
    "#!/bin/bash\n",
    "# FOR LOOP\n",
    "for integer in 1 2 3 4 5 6 7 \n",
    "    do \n",
    "        echo $integer\n",
    "    done"
   ]
  },
  {
   "cell_type": "code",
   "execution_count": null,
   "metadata": {
    "vscode": {
     "languageId": "shellscript"
    }
   },
   "outputs": [],
   "source": [
    "#!/bin/bash\n",
    "\n",
    "for word in some string statement\n",
    "    do\n",
    "        echo $word\n",
    "    done"
   ]
  },
  {
   "cell_type": "code",
   "execution_count": null,
   "metadata": {
    "vscode": {
     "languageId": "shellscript"
    }
   },
   "outputs": [],
   "source": [
    "#!/bin/bash\n",
    "\n",
    "for i in $(ls /etc/); \n",
    "    do\n",
    "        echo $i \n",
    "    done"
   ]
  },
  {
   "cell_type": "code",
   "execution_count": null,
   "metadata": {
    "vscode": {
     "languageId": "shellscript"
    }
   },
   "outputs": [],
   "source": [
    "#!/bin/bash\n",
    "\n",
    "for ((i=0; i<=10; i++))\n",
    "    do\n",
    "        echo $i\n",
    "    done\n"
   ]
  },
  {
   "cell_type": "code",
   "execution_count": null,
   "metadata": {
    "vscode": {
     "languageId": "shellscript"
    }
   },
   "outputs": [],
   "source": [
    "#!/bin/bash\n",
    "\n",
    "# WHILE LOOP\n",
    "\n",
    "while <test-command>\n",
    "    do\n",
    "        <some commands..>\n",
    "    done"
   ]
  },
  {
   "cell_type": "code",
   "execution_count": null,
   "metadata": {
    "vscode": {
     "languageId": "shellscript"
    }
   },
   "outputs": [],
   "source": [
    "#!/bin/bash\n",
    "\n",
    "# WHILE LOOP\n",
    "\n",
    "i=0\n",
    "while [ $i -le 10 ] \n",
    "    do\n",
    "        echo $i\n",
    "        ((i++))\n",
    "    done"
   ]
  },
  {
   "cell_type": "code",
   "execution_count": null,
   "metadata": {
    "vscode": {
     "languageId": "shellscript"
    }
   },
   "outputs": [],
   "source": [
    "#!/bin/bash\n",
    "\n",
    "# UNTIL LOOP\n",
    "\n",
    "i=0\n",
    "until test $i -eq 10 \n",
    "    do\n",
    "        echo $i\n",
    "        ((i++))\n",
    "    done"
   ]
  },
  {
   "cell_type": "code",
   "execution_count": null,
   "metadata": {
    "vscode": {
     "languageId": "shellscript"
    }
   },
   "outputs": [],
   "source": [
    "#!/bin/bash\n",
    "\n",
    "# CONDITIONAL EXPRESSIONS\n",
    "# IF FI\n",
    "if [ \"foo\" = \"foo\" ]; then\n",
    "    echo expression evaluated as true\n",
    "fi"
   ]
  },
  {
   "cell_type": "code",
   "execution_count": null,
   "metadata": {
    "vscode": {
     "languageId": "shellscript"
    }
   },
   "outputs": [],
   "source": [
    "#!/bin/bash\n",
    "\n",
    "# check if a number is even\n",
    "\n",
    "read -p \"Enter a number: \" i\n",
    "\n",
    "if (( i % 2 == 0 )); then\n",
    "    echo \"$i is even\"\n",
    "fi"
   ]
  },
  {
   "cell_type": "code",
   "execution_count": null,
   "metadata": {
    "vscode": {
     "languageId": "shellscript"
    }
   },
   "outputs": [],
   "source": [
    "#!/bin/bash\n",
    "\n",
    "# IF ELSE\n",
    "\n",
    "# check if a number is even\n",
    "\n",
    "read -p \"Enter a number: \" i\n",
    "\n",
    "\n",
    "if ! [[ \"$i\" =~ ^[0-9]+$ ]]; then  # check if the input is an integer\n",
    "    echo \"Error: Not an integer\"\n",
    "    exit 1\n",
    "else\n",
    "    if (( i % 2 == 0 )); then # check if even or odd\n",
    "        echo \"$i is even\"\n",
    "    else \n",
    "        echo \"$i is odd\"\n",
    "    fi\n",
    "fi"
   ]
  },
  {
   "cell_type": "code",
   "execution_count": null,
   "metadata": {
    "vscode": {
     "languageId": "shellscript"
    }
   },
   "outputs": [],
   "source": [
    "#!/bin/bash\n",
    "\n",
    "# IF ELSE\n",
    "# FUNCTION\n",
    "# WHILE LOOP\n",
    "\n",
    "# check if a number is integer first then check if it is even\n",
    "\n",
    "read -p \"Enter a number: \" i\n",
    "\n",
    "# check if the input is an integer\n",
    "function is_int(){\n",
    "    if [[ \"$i\" =~ ^[0-9]+$ ]]; then\n",
    "        return 0\n",
    "    else\n",
    "        return 1\n",
    "    fi\n",
    "}\n",
    "\n",
    "if is_int ; then  # check if the input is an integer\n",
    "    if (( i % 2 == 0 )); then # check if even or odd\n",
    "        echo \"$i is even\"\n",
    "    else \n",
    "        echo \"$i is odd\"\n",
    "    fi\n",
    "else\n",
    "    echo \"Error: Not an integer\"\n",
    "fi"
   ]
  },
  {
   "cell_type": "code",
   "execution_count": null,
   "metadata": {
    "vscode": {
     "languageId": "shellscript"
    }
   },
   "outputs": [],
   "source": [
    "#!/bin/bash\n",
    "\n",
    "# IF ELSE\n",
    "# FUNCTIONS\n",
    "# WHILE\n",
    "# keep checking if a number is integer and then if it's even until a value is entered\n",
    "\n",
    "\n",
    "\n",
    "function is_int(){\n",
    "    if [[ \"$i\" =~ ^[0-9]+$ ]]; then\n",
    "        return 0\n",
    "    else\n",
    "        return 1\n",
    "    fi\n",
    "}\n",
    "\n",
    "while [[ ${i,,} != 'khalas' ]]\n",
    "do\n",
    "\n",
    "read -p \"Enter a number: \" i\n",
    "\n",
    "if is_int ; then  # check if the input is an integer\n",
    "    if (( i % 2 == 0 )); then # check if even or odd\n",
    "        echo \"$i is even\"\n",
    "    else \n",
    "        echo \"$i is odd\"\n",
    "    fi\n",
    "else\n",
    "    echo \"Error: Not an integer\"\n",
    "fi\n",
    "\n",
    "done"
   ]
  },
  {
   "cell_type": "code",
   "execution_count": null,
   "metadata": {
    "vscode": {
     "languageId": "shellscript"
    }
   },
   "outputs": [],
   "source": [
    "#!/bin/bash\n",
    "\n",
    "# Check if Docker is installed\n",
    "if ! command -v docker &> /dev/null; then\n",
    "    echo \"Docker is not installed. Installing...\"\n",
    "    # check if curl is installed\n",
    "    if ! command -v curl &> /dev/null; then\n",
    "        sudo apt install curl -y\n",
    "    fi\n",
    "    curl -fsSL https://get.docker.com -o get-docker.sh\n",
    "    sudo sh get-docker.sh\n",
    "else\n",
    "    echo \"Docker is already installed.\"\n",
    "fi\n",
    "\n",
    "# Check if Docker service is enabled\n",
    "if ! systemctl is-active --quiet docker; then\n",
    "    echo \"Enabling Docker service...\"\n",
    "    sudo systemctl start docker\n",
    "    sudo systemctl enable docker\n",
    "else\n",
    "    echo \"Docker service is already enabled.\"\n",
    "fi\n",
    "\n",
    "echo \"Docker setup complete!\"\n"
   ]
  },
  {
   "cell_type": "code",
   "execution_count": null,
   "metadata": {
    "vscode": {
     "languageId": "shellscript"
    }
   },
   "outputs": [],
   "source": [
    "#!/bin/bash\n",
    "\n",
    "# kill any mysql active containers (if any)\n",
    "container_id=$(sudo docker container ls --filter \"ancestor=mysql\" -q)\n",
    "if ! [[ -z $container_id ]]; then\n",
    "    echo \"Existing running mysql container found and being deleted..\"\n",
    "    sudo docker rm $container_id -f\n",
    "fi \n",
    "\n",
    "# pull and run the mysql container\n",
    "sudo docker run --rm --name mysql-db -h mysql-db -e MYSQL_ROOT_PASSWORD=P@ssw0rd -d mysql:latest && echo \"mysql container is running..\"\n",
    "\n",
    "for ((attempt = 1; attempt <= 9; attempt++)); do\n",
    "    if sudo docker exec -it mysql-db mysql -uroot -pP@ssw0rd -e \"SELECT 1;\" &> /dev/null; then\n",
    "        echo \"Connected to successfully to mysql database engine\"\n",
    "        break\n",
    "    else\n",
    "        echo \"Connection failed to mysql engine, attempting reconnection $attempt/9 ... \"\n",
    "        \n",
    "        sleep 5\n",
    "    fi\n",
    "done\n",
    "\n",
    "# Create mysql database and table \n",
    "sudo docker exec -i mysql-db mysql -w --show-warnings=0 -uroot -pP@ssw0rd -e 'CREATE DATABASE namesdb; USE namesdb; CREATE TABLE passwd (name VARCHAR(20),uid INT,gid INT,primary_group VARCHAR(30),home_dir VARCHAR(30),default_shell VARCHAR(30));' 2> /dev/null\n",
    "\n",
    "# Read /etc/passwd and extract user information\n",
    "# Use the cut command to extract the corrsponding field and create arrays\n",
    "_usernames=$(cut -d: -f1 /etc/passwd)\n",
    "_uids=$(cut -d: -f3 /etc/passwd)\n",
    "_gids=$(cut -d: -f4 /etc/passwd)\n",
    "_primary_groups=$(cut -d: -f5 /etc/passwd)\n",
    "_home_dirs=$(cut -d: -f6 /etc/passwd)\n",
    "_default_shells=$(cut -d: -f7 /etc/passwd)\n",
    "\n",
    "# We'll need to rebuild the arrays as the cut command doesn't put it in a proper format\n",
    "declare -a usernames uids gids primary_groups home_dirs default_shells\n",
    "\n",
    "n=0\n",
    "for name in $_usernames\n",
    "do\n",
    "    usernames[n]=$name\n",
    "    ((n++))\n",
    "done\n",
    "\n",
    "n=0\n",
    "for uid in $_uids\n",
    "do\n",
    "    uids[n]=$uid\n",
    "    ((n++))\n",
    "done\n",
    "\n",
    "n=0\n",
    "for gid in $_gids\n",
    "do\n",
    "    gids[n]=$gid\n",
    "    ((n++))\n",
    "done\n",
    "\n",
    "n=0\n",
    "for pg in $_primary_groups\n",
    "do\n",
    "    primary_groups[n]=$pg\n",
    "    ((n++))\n",
    "done\n",
    "\n",
    "n=0\n",
    "for hd in $_home_dirs\n",
    "do\n",
    "    home_dirs[n]=$hd\n",
    "    ((n++))\n",
    "done\n",
    "\n",
    "n=0\n",
    "for ds in $_default_shells\n",
    "do\n",
    "    default_shells[n]=$ds\n",
    "    ((n++))\n",
    "done\n",
    "\n",
    "# Validation of arrays\n",
    "# for ((i=0;i<$n;i++))\n",
    "# do\n",
    "#     echo ${usernames[i]} ${default_shells[i]}\n",
    "# done\n",
    "\n",
    "for ((i=0;i<$n;i++))\n",
    "do\n",
    "    sudo docker exec mysql-db mysql -w --show-warnings=0  -uroot -pP@ssw0rd -e \"USE namesdb; INSERT INTO passwd VALUES('${usernames[i]}', '${uids[i]}', '${gids[i]}', '${primary_groups[i]}', '${home_dirs[i]}', '${default_shells[i]}')\" 2> /dev/null\n",
    "done\n",
    "\n",
    "echo \"Data loaded successfully!\"\n"
   ]
  }
 ],
 "metadata": {
  "kernelspec": {
   "display_name": "Bash",
   "language": "bash",
   "name": "bash"
  },
  "language_info": {
   "codemirror_mode": "shell",
   "file_extension": ".sh",
   "mimetype": "text/x-sh",
   "name": "bash"
  }
 },
 "nbformat": 4,
 "nbformat_minor": 2
}
